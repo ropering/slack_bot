{
 "cells": [
  {
   "cell_type": "code",
   "execution_count": 28,
   "metadata": {
    "pycharm": {
     "name": "#%%\n"
    }
   },
   "outputs": [],
   "source": [
    "import time\n",
    "import datetime"
   ]
  },
  {
   "cell_type": "code",
   "execution_count": 26,
   "metadata": {
    "pycharm": {
     "name": "#%%\n"
    }
   },
   "outputs": [
    {
     "data": {
      "text/plain": [
       "time.struct_time(tm_year=2022, tm_mon=8, tm_mday=28, tm_hour=21, tm_min=55, tm_sec=16, tm_wday=6, tm_yday=240, tm_isdst=0)"
      ]
     },
     "execution_count": 26,
     "metadata": {},
     "output_type": "execute_result"
    }
   ],
   "source": [
    "time.localtime()"
   ]
  },
  {
   "cell_type": "code",
   "execution_count": 29,
   "metadata": {
    "pycharm": {
     "name": "#%%\n"
    }
   },
   "outputs": [
    {
     "data": {
      "text/plain": [
       "datetime.datetime(2022, 8, 28, 21, 55, 33, 619657)"
      ]
     },
     "execution_count": 29,
     "metadata": {},
     "output_type": "execute_result"
    }
   ],
   "source": [
    "datetime.datetime.now()"
   ]
  },
  {
   "cell_type": "code",
   "execution_count": 12,
   "metadata": {
    "pycharm": {
     "name": "#%%\n"
    }
   },
   "outputs": [],
   "source": [
    "# 오전 9 - 11\n",
    "# 오후 13 - 18 \n",
    "from time import localtime\n",
    "\n",
    "#TODO 매 시간마다\n",
    "#TODO 평일마다\n",
    "if 9 <= localtime().tm_hour <= 11 or 13 <= localtime().tm_hour <= 18:\n",
    "    print('자세 바로하세요') "
   ]
  },
  {
   "cell_type": "code",
   "execution_count": null,
   "outputs": [],
   "source": [
    "# 년, 월, 일, 시간 출력\n",
    "time.strftime(\"%Y년 %m월 %d일 %H:%M:%S\")"
   ],
   "metadata": {
    "collapsed": false,
    "pycharm": {
     "name": "#%%\n"
    }
   }
  },
  {
   "cell_type": "code",
   "execution_count": null,
   "outputs": [],
   "source": [
    "\"\"\"\n",
    "시스템 정보\n",
    "아래 스크립트 삭제시 JF deploy 실행이 안됩니다.\n",
    "#JF_DEPLOYMENT_INPUT_DATA_INFO_START\n",
    "{\n",
    "    \"deployment_input_data_form_list\": [\n",
    "        {\n",
    "            \"method\": \"POST\",\n",
    "            \"location\": \"file\",\n",
    "            \"api_key\": \"image\",\n",
    "            \"value_type\": \"file\",\n",
    "            \"category\": \"image\",\n",
    "            \"category_description\": \"\"\n",
    "        }\n",
    "    ]\n",
    "}\n",
    "#JF_DEPLOYMENT_INPUT_DATA_INFO_END\n",
    "\"\"\"\n",
    "import sys\n",
    "sys.path.append('/addlib')\n",
    "from deployment_api_deco import api_monitor\n",
    "from flask import Flask, request, jsonify\n",
    "from flask.views import MethodView\n",
    "from flask_cors import CORS\n",
    "import argparse\n",
    "import requests\n",
    "import base64\n",
    "import tensorflow as tf\n",
    "from tensorflow.keras.models import load_model\n",
    "import numpy as np\n",
    "import matplotlib.pyplot as plt\n",
    "import os\n",
    "import cv2\n",
    "from multiprocessing import Pool\n",
    "import time\n",
    "\n",
    "\n",
    "parser = argparse.ArgumentParser()\n",
    "parser.add_argument('--prefix', type=str, default='/')\n",
    "\"\"\"\n",
    "배포 실행 명령어 관련 자동생성 영역\n",
    "\"\"\"\n",
    "\n",
    "params, _ = parser.parse_known_args()\n",
    "params = vars(params)\n",
    "app = Flask(__name__)\n",
    "CORS(app, resources={r'/*': {\"origins\": '*'}})\n",
    "\n",
    "\n",
    "model = load_model(os.path.abspath(\"./model.h5\"), compile=False)\n",
    "\n",
    "# def ran_int(a):\n",
    "# #     # 이미지 저장\n",
    "# #     file = request.files['image']\n",
    "#     file_name = 'input.jpg'\n",
    "# #     file.save(file_name)\n",
    "\n",
    "#     # 이미지 읽어오기\n",
    "#     img_grayscale = cv2.imread(file_name, 0)\n",
    "\n",
    "#     # 이미지 전처리\n",
    "#     img_resized = cv2.resize(img_grayscale, dsize=(28, 28), interpolation=cv2.INTER_CUBIC)\n",
    "#     img = img_resized.reshape(-1, 28 * 28) / 255.0\n",
    "\n",
    "#     # 이미지 판단\n",
    "#     prediction = model.predict(img)[0]\n",
    "\n",
    "#     # 결과\n",
    "#     result = {}\n",
    "#     for idx, val in enumerate(prediction):\n",
    "#         result[idx] = str(val * 100)[:4] + '%'\n",
    "\n",
    "#     # 최종 결과\n",
    "#     final_result = list(prediction).index(max(prediction))\n",
    "\n",
    "#     output = {\n",
    "#         \"text\": [\n",
    "#             {\n",
    "#                 \"final_result\": final_result\n",
    "#             }\n",
    "#         ],\n",
    "#     }\n",
    "\n",
    "#     return jsonify(output)\n",
    "\n",
    "\n",
    "\n",
    "\n",
    "\n",
    "class run_api(MethodView):\n",
    "    def __init__(self):\n",
    "        pass\n",
    "\n",
    "    @api_monitor()\n",
    "    def get(self):\n",
    "        return \"get method success\"\n",
    "\n",
    "    @api_monitor()\n",
    "    def post(self):\n",
    "#         # 병렬화\n",
    "#         p = Pool(processes=2)\n",
    "#         rls = p.map(ran_int, [1,2,3])\n",
    "#         return(rls)\n",
    "        start = time.time()\n",
    "\n",
    "        # for 반복\n",
    "        sum = 0\n",
    "        for i in range(10000000):\n",
    "            sum += 1\n",
    "\n",
    "\n",
    "        # 이미지 저장\n",
    "#         file = request.files['image']\n",
    "        file_name = 'input.jpg'\n",
    "        #file.save(file_name)\n",
    "\n",
    "        # 이미지 읽어오기\n",
    "        img_grayscale = cv2.imread(file_name, 0)\n",
    "\n",
    "        # 이미지 전처리\n",
    "        img_resized = cv2.resize(img_grayscale, dsize=(28, 28), interpolation=cv2.INTER_CUBIC)\n",
    "        img = img_resized.reshape(-1, 28 * 28) / 255.0\n",
    "\n",
    "        # 이미지 판단\n",
    "        prediction = model.predict(img)[0]\n",
    "\n",
    "        # 결과\n",
    "        result = {}\n",
    "        for idx, val in enumerate(prediction):\n",
    "            result[idx] = str(val * 100)[:4] + '%'\n",
    "\n",
    "        # 최종 결과\n",
    "        final_result = list(prediction).index(max(prediction))\n",
    "\n",
    "        output = {\n",
    "            \"text\": [\n",
    "                {\n",
    "                    \"final_result\": final_result\n",
    "                }\n",
    "            ],\n",
    "        }\n",
    "\n",
    "        end = time.time()\n",
    "        os.system(f\"echo {end - start} >> log_requests_5000_1000.txt\")\n",
    "\n",
    "#         print(f\"time is {end - start}\")\n",
    "\n",
    "        return jsonify(output)\n",
    "\n",
    "\n",
    "\n",
    "app.add_url_rule(params[\"prefix\"], view_func=run_api.as_view(\"run_api\"))\n",
    "if __name__ == \"__main__\":\n",
    "    \"\"\"\n",
    "    모델 로드를 권장하는 위치\n",
    "    사용자 영역\n",
    "    \"\"\"\n",
    "    app.run('0.0.0.0',8555,threaded=True, debug=True)"
   ],
   "metadata": {
    "collapsed": false,
    "pycharm": {
     "name": "#%%\n"
    }
   }
  }
 ],
 "metadata": {
  "kernelspec": {
   "display_name": "Python 3.10.5 ('venv': venv)",
   "language": "python",
   "name": "python3"
  },
  "language_info": {
   "codemirror_mode": {
    "name": "ipython",
    "version": 3
   },
   "file_extension": ".py",
   "mimetype": "text/x-python",
   "name": "python",
   "nbconvert_exporter": "python",
   "pygments_lexer": "ipython3",
   "version": "3.10.5"
  },
  "orig_nbformat": 4,
  "vscode": {
   "interpreter": {
    "hash": "21f22ef02b851d0078172880e978bddac4518b7e2e621e9c4bbed629d50aaf93"
   }
  }
 },
 "nbformat": 4,
 "nbformat_minor": 2
}